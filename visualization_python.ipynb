{
 "cells": [
  {
   "cell_type": "code",
   "execution_count": null,
   "metadata": {
    "collapsed": true
   },
   "outputs": [],
   "source": [
    "# visualization of simulation data\n",
    "\n",
    "# Jan Totz <jantotz@itp.tu-berlin.de>"
   ]
  },
  {
   "cell_type": "code",
   "execution_count": 5,
   "metadata": {
    "collapsed": true
   },
   "outputs": [],
   "source": [
    "# dependencies\n",
    "import numpy as np\n",
    "import os.path\n",
    "import matplotlib.pyplot as plt\n",
    "import matplotlib as mpl\n",
    "from ipywidgets import widgets, interact"
   ]
  },
  {
   "cell_type": "code",
   "execution_count": 2,
   "metadata": {
    "collapsed": true
   },
   "outputs": [],
   "source": [
    "def loadData(pth):\n",
    "\n",
    "    # get pth and name of file\n",
    "    pthfn = os.path.join(pth, 'states', 'state.bin')\n",
    "    # print(pthfn)                  # debug info\n",
    "    if not os.path.isfile(pthfn):\n",
    "        print('File does not exist!'); quit();\n",
    "    \n",
    "    # define header datatype\n",
    "    headerDatatypes = np.dtype([\n",
    "    (\"nx\", np.int32),\n",
    "    (\"ny\", np.int32),\n",
    "    (\"nc\", np.int32),\n",
    "    (\"dt\", np.float32),\n",
    "    ])\n",
    "        \n",
    "    f = open(pthfn, \"rb\")                                                           # open the file\n",
    "    [nx, ny, nc, dt] = np.fromfile(f, dtype=headerDatatypes, count=1)[0]            # read header\n",
    "    rawData = np.fromfile(f, dtype=np.float64)                                      # read body\n",
    "    f.close()                                                                       # close the file                               \n",
    "    shapedData = np.reshape(rawData, (-1,nc,ny,nx))                                 # reshape array for future use\n",
    "    nstates = shapedData.shape[0]                                                   # find number of states\n",
    "    \n",
    "    return [shapedData, nstates]"
   ]
  },
  {
   "cell_type": "code",
   "execution_count": 3,
   "metadata": {
    "collapsed": true
   },
   "outputs": [],
   "source": [
    "def plot_frame(t):\n",
    "    mpl.rcParams['xtick.labelsize'] = 18\n",
    "    mpl.rcParams['ytick.labelsize'] = 18\n",
    "    fsAxesLabels = 20\n",
    "    fsPlotLabels = 22\n",
    "    fsMainLabel = 24\n",
    "    \n",
    "    fig = plt.figure(figsize=(16,5.5))\n",
    "    fig.suptitle('t = ' + '%.1f' % t, fontsize=fsMainLabel)\n",
    "\n",
    "    plt.subplot(1, 2, 1)\n",
    "    plt.title('u',{'fontsize':fsPlotLabels})\n",
    "    plt.imshow(uvData[t,0,:,:],aspect=1,origin='lower',cmap='YlGnBu_r')\n",
    "    plt.colorbar(fraction=0.046, pad=0.04)\n",
    "    plt.clim(0,1)\n",
    "    plt.xlabel('j',{'fontsize':fsAxesLabels})\n",
    "    plt.ylabel('k',{'fontsize':fsAxesLabels})\n",
    "\n",
    "    plt.subplot(1, 2, 2)\n",
    "    plt.title('v',{'fontsize':fsPlotLabels})\n",
    "    plt.imshow(uvData[t,1,:,:],aspect=1,origin='lower',cmap='hot')\n",
    "    plt.colorbar(fraction=0.046, pad=0.04)\n",
    "    plt.clim(0,1)\n",
    "    plt.xlabel('j',{'fontsize':fsAxesLabels})\n",
    "    plt.ylabel('k',{'fontsize':fsAxesLabels})\n",
    "\n",
    "    plt.subplots_adjust(wspace=0.3)\n",
    "    plt.show()"
   ]
  },
  {
   "cell_type": "code",
   "execution_count": 6,
   "metadata": {},
   "outputs": [],
   "source": [
    "# main\n",
    "pth = \"home/<user>/Simulations/run1\";\n",
    "[uvData, nstates] = loadData(pth)"
   ]
  },
  {
   "cell_type": "code",
   "execution_count": null,
   "metadata": {
    "collapsed": true
   },
   "outputs": [],
   "source": [
    "# choose specific frame\n",
    "interact(plot_frame, t=widgets.IntSlider(min=0,max=nstates,step=1,value=0));"
   ]
  },
  {
   "cell_type": "code",
   "execution_count": 70,
   "metadata": {},
   "outputs": [
    {
     "data": {
      "application/vnd.jupyter.widget-view+json": {
       "model_id": "3902d6a373d5453497b8b678eacc8e2c"
      }
     },
     "metadata": {},
     "output_type": "display_data"
    }
   ],
   "source": [
    "# animation\n",
    "interact(plot_frame, t=widgets.Play(min=0,max=nstates,step=1,value=0));"
   ]
  },
  {
   "cell_type": "code",
   "execution_count": null,
   "metadata": {
    "collapsed": true
   },
   "outputs": [],
   "source": []
  }
 ],
 "metadata": {
  "kernelspec": {
   "display_name": "Python 3",
   "language": "python",
   "name": "python3"
  },
  "language_info": {
   "codemirror_mode": {
    "name": "ipython",
    "version": 3
   },
   "file_extension": ".py",
   "mimetype": "text/x-python",
   "name": "python",
   "nbconvert_exporter": "python",
   "pygments_lexer": "ipython3",
   "version": "3.5.2"
  }
 },
 "nbformat": 4,
 "nbformat_minor": 2
}
